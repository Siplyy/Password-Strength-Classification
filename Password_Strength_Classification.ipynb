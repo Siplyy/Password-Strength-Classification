{
 "cells": [
  {
   "cell_type": "markdown",
   "id": "b22aa371-9d1f-456d-b324-60a0b86e7237",
   "metadata": {},
   "source": [
    "# Классификация надежности паролей, с использованием Машинного Обучения"
   ]
  },
  {
   "cell_type": "markdown",
   "id": "070a4fa4-7d5b-4f79-a985-84724c288a30",
   "metadata": {},
   "source": [
    "## Загрузка имеющегося набора данных. Исследование и корректировка данных в наборе"
   ]
  },
  {
   "cell_type": "code",
   "execution_count": 433,
   "id": "f5794d2c-cb21-48fe-8d26-0361ef32dafe",
   "metadata": {},
   "outputs": [],
   "source": [
    "import pandas as pd\n",
    "import numpy as np\n",
    "import numpy.random"
   ]
  },
  {
   "cell_type": "code",
   "execution_count": 434,
   "id": "a61838c5-a6ab-4034-9e72-10ccf52061aa",
   "metadata": {},
   "outputs": [],
   "source": [
    "filepath = \"data.csv\"\n",
    "data = pd.read_csv(filepath, on_bad_lines='skip')"
   ]
  },
  {
   "cell_type": "code",
   "execution_count": 435,
   "id": "4bdca2af-aa8e-4b56-af7b-2afed46b424a",
   "metadata": {},
   "outputs": [
    {
     "name": "stdout",
     "output_type": "stream",
     "text": [
      "<class 'pandas.core.frame.DataFrame'>\n",
      "RangeIndex: 669640 entries, 0 to 669639\n",
      "Data columns (total 2 columns):\n",
      " #   Column    Non-Null Count   Dtype \n",
      "---  ------    --------------   ----- \n",
      " 0   password  669639 non-null  object\n",
      " 1   strength  669640 non-null  int64 \n",
      "dtypes: int64(1), object(1)\n",
      "memory usage: 10.2+ MB\n"
     ]
    }
   ],
   "source": [
    "data.info()"
   ]
  },
  {
   "cell_type": "code",
   "execution_count": 436,
   "id": "61301bc6-122d-4868-bd44-2db56eb685c9",
   "metadata": {},
   "outputs": [
    {
     "data": {
      "text/html": [
       "<div>\n",
       "<style scoped>\n",
       "    .dataframe tbody tr th:only-of-type {\n",
       "        vertical-align: middle;\n",
       "    }\n",
       "\n",
       "    .dataframe tbody tr th {\n",
       "        vertical-align: top;\n",
       "    }\n",
       "\n",
       "    .dataframe thead th {\n",
       "        text-align: right;\n",
       "    }\n",
       "</style>\n",
       "<table border=\"1\" class=\"dataframe\">\n",
       "  <thead>\n",
       "    <tr style=\"text-align: right;\">\n",
       "      <th></th>\n",
       "      <th>password</th>\n",
       "      <th>strength</th>\n",
       "    </tr>\n",
       "  </thead>\n",
       "  <tbody>\n",
       "    <tr>\n",
       "      <th>0</th>\n",
       "      <td>kzde5577</td>\n",
       "      <td>1</td>\n",
       "    </tr>\n",
       "    <tr>\n",
       "      <th>1</th>\n",
       "      <td>kino3434</td>\n",
       "      <td>1</td>\n",
       "    </tr>\n",
       "    <tr>\n",
       "      <th>2</th>\n",
       "      <td>visi7k1yr</td>\n",
       "      <td>1</td>\n",
       "    </tr>\n",
       "    <tr>\n",
       "      <th>3</th>\n",
       "      <td>megzy123</td>\n",
       "      <td>1</td>\n",
       "    </tr>\n",
       "    <tr>\n",
       "      <th>4</th>\n",
       "      <td>lamborghin1</td>\n",
       "      <td>1</td>\n",
       "    </tr>\n",
       "  </tbody>\n",
       "</table>\n",
       "</div>"
      ],
      "text/plain": [
       "      password  strength\n",
       "0     kzde5577         1\n",
       "1     kino3434         1\n",
       "2    visi7k1yr         1\n",
       "3     megzy123         1\n",
       "4  lamborghin1         1"
      ]
     },
     "execution_count": 436,
     "metadata": {},
     "output_type": "execute_result"
    }
   ],
   "source": [
    "data.head()"
   ]
  },
  {
   "cell_type": "markdown",
   "id": "52f3567e-9577-473f-960f-871eef30688c",
   "metadata": {},
   "source": [
    "Видим, что наш набор данных состоит из паролей и их сложностей. Посмотрим, на какие уровни сложности разбиваются имеющиеся пароли:"
   ]
  },
  {
   "cell_type": "code",
   "execution_count": 437,
   "id": "57b53e5e-f12f-40a0-968a-ce46658837e3",
   "metadata": {},
   "outputs": [
    {
     "data": {
      "text/plain": [
       "strength\n",
       "1    496801\n",
       "0     89702\n",
       "2     83137\n",
       "Name: count, dtype: int64"
      ]
     },
     "execution_count": 437,
     "metadata": {},
     "output_type": "execute_result"
    }
   ],
   "source": [
    "data['strength'].value_counts()"
   ]
  },
  {
   "cell_type": "markdown",
   "id": "1e1d69ff-4e7a-4c21-813f-87d9aa11ffd9",
   "metadata": {},
   "source": [
    "Пароли разбиты на три уровня сложности: **weak**(слабый) - 0, **medium**(средний) - 1 и **strong**(сильный) - 2. Проверим, чтобы в таблице не было пропусков,которые могут помешать в работе. Если они присутствуют - удалим."
   ]
  },
  {
   "cell_type": "code",
   "execution_count": 438,
   "id": "e52c44d7-c17e-4b5c-ae18-c887dd3eb408",
   "metadata": {},
   "outputs": [
    {
     "data": {
      "text/html": [
       "<div>\n",
       "<style scoped>\n",
       "    .dataframe tbody tr th:only-of-type {\n",
       "        vertical-align: middle;\n",
       "    }\n",
       "\n",
       "    .dataframe tbody tr th {\n",
       "        vertical-align: top;\n",
       "    }\n",
       "\n",
       "    .dataframe thead th {\n",
       "        text-align: right;\n",
       "    }\n",
       "</style>\n",
       "<table border=\"1\" class=\"dataframe\">\n",
       "  <thead>\n",
       "    <tr style=\"text-align: right;\">\n",
       "      <th></th>\n",
       "      <th>password</th>\n",
       "      <th>strength</th>\n",
       "    </tr>\n",
       "  </thead>\n",
       "  <tbody>\n",
       "    <tr>\n",
       "      <th>367579</th>\n",
       "      <td>NaN</td>\n",
       "      <td>0</td>\n",
       "    </tr>\n",
       "  </tbody>\n",
       "</table>\n",
       "</div>"
      ],
      "text/plain": [
       "       password  strength\n",
       "367579      NaN         0"
      ]
     },
     "execution_count": 438,
     "metadata": {},
     "output_type": "execute_result"
    }
   ],
   "source": [
    "data[data['password'].isnull()]"
   ]
  },
  {
   "cell_type": "code",
   "execution_count": 439,
   "id": "0b061e66-2979-4039-b871-c80fd16ad47c",
   "metadata": {},
   "outputs": [
    {
     "data": {
      "text/plain": [
       "pandas.core.frame.DataFrame"
      ]
     },
     "execution_count": 439,
     "metadata": {},
     "output_type": "execute_result"
    }
   ],
   "source": [
    "data.dropna(inplace=True)\n",
    "data[data['password'].isnull()]\n",
    "type(data)"
   ]
  },
  {
   "cell_type": "markdown",
   "id": "e2c44e96-ad97-4523-8ddf-be5d468705d9",
   "metadata": {},
   "source": [
    "### Немного о исследуемом наборе данных\n",
    "Рассмотрим используемый датасет подробнее. Он состоит из паролей, взятых из утечки 000webhost. Как же устанавливалась сложность паролей? Все довольно просто. Для оценки надежности были использованы алгоритмы надежности от Twitter, Microsoft и battle. Те пароли, которые получили одинаковую оценку от каждого из сервисов, были добавлены в используемый набор данных. Перейдем к анализу."
   ]
  },
  {
   "cell_type": "markdown",
   "id": "2a7bca26-c5d3-4eff-b060-e0ff38e73eae",
   "metadata": {},
   "source": [
    "## Предобработка данных\n",
    "Перемешаем имеющиеся данные"
   ]
  },
  {
   "cell_type": "code",
   "execution_count": 440,
   "id": "9df0976a-df59-452f-9fb9-e9d5411408a9",
   "metadata": {},
   "outputs": [],
   "source": [
    "passwords = np.array(data)\n",
    "np.random.shuffle(passwords)"
   ]
  },
  {
   "cell_type": "markdown",
   "id": "812d977e-6036-46ac-982f-f55bce21010d",
   "metadata": {},
   "source": [
    "Разделим входы и указания учителя"
   ]
  },
  {
   "cell_type": "code",
   "execution_count": 441,
   "id": "2c31445d-966e-4ae1-ba68-e894c2e904e5",
   "metadata": {},
   "outputs": [],
   "source": [
    "X = passwords[:, 0]\n",
    "y = passwords[:, 1].astype(np.double)"
   ]
  },
  {
   "cell_type": "markdown",
   "id": "623e0728-ef32-4e86-9ec0-ad18d765abc7",
   "metadata": {},
   "source": [
    "Так как большая часть моделей машинного обучения, в том числе и логистическая регрессия, используемая нами, работают с **численными данными**, то нам необходимо преобразовать пароли в вектора чисел. Для этого, мы будем использовать **TfidfVectorizer** (Term Frequency-Inverse Document Frequency Vectorizer) - это инструмент для преобразования коллекции текстовых документов в матрицу TF-IDF. \n",
    "Так как, по умолчанию, TfidfVectorizer работает с текстами, и разбивает их на отдельные слова (каждый отдельный токен - слово), нам необходимо указать ему другой способ разбивки на токены, т.к. работаем не с текстами, а со словами. Сделаем простейший токенизатор, который будет разбивать каждый пароль на отдельные символы(токены)"
   ]
  },
  {
   "cell_type": "code",
   "execution_count": 442,
   "id": "750333fd-1ed0-4ec2-87c8-ca077f44ad80",
   "metadata": {},
   "outputs": [],
   "source": [
    "def getTokens(inputString):\n",
    "\ttokens = []\n",
    "\tfor i in inputString:\n",
    "\t\ttokens.append(i)\n",
    "\treturn tokens"
   ]
  },
  {
   "cell_type": "markdown",
   "id": "8cb53762-386a-454d-8c39-c9f2def8a09f",
   "metadata": {},
   "source": [
    "Далее, проводим описанное ранее преобразование наших данных, а также разбиваем данные на тестовые и тренировочные."
   ]
  },
  {
   "cell_type": "code",
   "execution_count": 443,
   "id": "acf40161-5135-4ae6-a0a6-62306827078d",
   "metadata": {},
   "outputs": [
    {
     "name": "stderr",
     "output_type": "stream",
     "text": [
      "/Users/Work/anaconda3/lib/python3.11/site-packages/sklearn/feature_extraction/text.py:525: UserWarning: The parameter 'token_pattern' will not be used since 'tokenizer' is not None'\n",
      "  warnings.warn(\n"
     ]
    }
   ],
   "source": [
    "from sklearn.model_selection import train_test_split\n",
    "from sklearn.feature_extraction.text import TfidfVectorizer\n",
    "    \n",
    "vectorizer = TfidfVectorizer(tokenizer=getTokens)\n",
    "X = vectorizer.fit_transform(X)\n",
    "\n",
    "X_train, X_test, y_train, y_test = train_test_split(X, y, test_size=0.20, random_state=42)"
   ]
  },
  {
   "cell_type": "markdown",
   "id": "a4e0f39c-a570-48be-835f-cf3f6eecdda5",
   "metadata": {},
   "source": [
    "## Обучение модели и получение результатов\n",
    "Обучаем модель логистической регрессии, после чего, выводим точность ее работы на тестовых данных"
   ]
  },
  {
   "cell_type": "code",
   "execution_count": 444,
   "id": "392af1f6-f21d-4332-877b-8581ef81aa9f",
   "metadata": {},
   "outputs": [
    {
     "name": "stdout",
     "output_type": "stream",
     "text": [
      "0.8113762618720507\n"
     ]
    }
   ],
   "source": [
    "from sklearn import linear_model\n",
    "lgs = linear_model.LogisticRegression(penalty='l2',multi_class='ovr')\n",
    "lgs.fit(X_train, y_train)\n",
    "print(lgs.score(X_test, y_test))"
   ]
  },
  {
   "cell_type": "markdown",
   "id": "6610abea-e1fe-4c06-99e7-8560152b2d32",
   "metadata": {},
   "source": [
    "Для примера, придумаем пароли и предскажем их точность:"
   ]
  },
  {
   "cell_type": "code",
   "execution_count": 445,
   "id": "0f22d77e-ebd4-484c-9a96-d10806010ec1",
   "metadata": {},
   "outputs": [
    {
     "name": "stdout",
     "output_type": "stream",
     "text": [
      "[1. 0. 1. 0. 0. 1. 2. 2. 0.]\n"
     ]
    }
   ],
   "source": [
    "X_predict = ['123456789','qwerty','qwerty1','1qwertq1','1qwert1qwer','1qwert1qwert','1qwerty#','!21q$w)er(ty#%','111111111111111111']\n",
    "X_predict = vectorizer.transform(X_predict)\n",
    "y_Predict = lgs.predict(X_predict)\n",
    "print(y_Predict)"
   ]
  },
  {
   "cell_type": "markdown",
   "id": "a80a43e6-dfcc-4fe2-9d18-0d63a8194aaf",
   "metadata": {},
   "source": [
    "## А можно ли лучше?\n",
    "Полученная точность не является идеальной. Попробуем увеличить точность нашей модели. Для этого, добавим признаков, на которые она может ориентироваться. Например, добавим длину пароля в вектор признаков."
   ]
  },
  {
   "cell_type": "code",
   "execution_count": 472,
   "id": "604b5ea1-5c04-46ea-ac46-18b2fd72b40a",
   "metadata": {},
   "outputs": [],
   "source": [
    "def getTokens2(inputString):\n",
    "    tokens = []\n",
    "    for i in inputString:\n",
    "        tokens.append(i)\n",
    "    tokens.append(str(len(inputString)))\n",
    "    return tokens"
   ]
  },
  {
   "cell_type": "markdown",
   "id": "d49ad7b8-4261-4670-a29d-e275bbaa2c12",
   "metadata": {},
   "source": [
    "Еще раз выделим данные"
   ]
  },
  {
   "cell_type": "code",
   "execution_count": 473,
   "id": "9d2d37ff-ae2a-43bd-8aa3-5dd8e20fc8d5",
   "metadata": {},
   "outputs": [],
   "source": [
    "X2 = passwords[:, 0]\n",
    "y2 = passwords[:, 1].astype(np.double)"
   ]
  },
  {
   "cell_type": "code",
   "execution_count": 474,
   "id": "93e72150-adbd-4111-be26-d717066f6cba",
   "metadata": {},
   "outputs": [
    {
     "name": "stderr",
     "output_type": "stream",
     "text": [
      "/Users/Work/anaconda3/lib/python3.11/site-packages/sklearn/feature_extraction/text.py:525: UserWarning: The parameter 'token_pattern' will not be used since 'tokenizer' is not None'\n",
      "  warnings.warn(\n"
     ]
    }
   ],
   "source": [
    "from sklearn.model_selection import train_test_split\n",
    "from sklearn.feature_extraction.text import TfidfVectorizer\n",
    "    \n",
    "vectorizer = TfidfVectorizer(tokenizer=getTokens2)\n",
    "X2 = vectorizer.fit_transform(X2)\n",
    "\n",
    "X2_train, X2_test, y2_train, y2_test = train_test_split(X2, y2, test_size=0.20, random_state=42)"
   ]
  },
  {
   "cell_type": "code",
   "execution_count": 475,
   "id": "6793d43b-021a-480d-a6d5-ad91b561b7a8",
   "metadata": {},
   "outputs": [
    {
     "name": "stdout",
     "output_type": "stream",
     "text": [
      "0.9590974254823488\n"
     ]
    }
   ],
   "source": [
    "from sklearn import linear_model\n",
    "lgs2 = linear_model.LogisticRegression(penalty='l2',multi_class='ovr')\n",
    "lgs2.fit(X2_train, y2_train)\n",
    "print(lgs2.score(X2_test, y2_test))"
   ]
  },
  {
   "cell_type": "markdown",
   "id": "b9098c53-b45f-400f-961a-e484e48034a8",
   "metadata": {},
   "source": [
    "Продемонстрируем работу нашей модели на практике:"
   ]
  },
  {
   "cell_type": "code",
   "execution_count": 476,
   "id": "cb33d6be-8e38-431a-9c56-9f38074670a5",
   "metadata": {},
   "outputs": [
    {
     "name": "stdout",
     "output_type": "stream",
     "text": [
      "[1. 0. 0. 1. 1. 1. 1. 2. 0.]\n"
     ]
    }
   ],
   "source": [
    "X2_predict = ['123456789','qwerty','qwerty1','1qwertq1','1qwert1qwer','1qwert1qwert','1qwerty#','!21q$w)er(ty#%','111111111111111111']\n",
    "X2_predict = vectorizer.transform(X2_predict)\n",
    "y2_Predict = lgs2.predict(X2_predict)\n",
    "print(y2_Predict)"
   ]
  }
 ],
 "metadata": {
  "kernelspec": {
   "display_name": "Python 3 (ipykernel)",
   "language": "python",
   "name": "python3"
  },
  "language_info": {
   "codemirror_mode": {
    "name": "ipython",
    "version": 3
   },
   "file_extension": ".py",
   "mimetype": "text/x-python",
   "name": "python",
   "nbconvert_exporter": "python",
   "pygments_lexer": "ipython3",
   "version": "3.11.5"
  }
 },
 "nbformat": 4,
 "nbformat_minor": 5
}
